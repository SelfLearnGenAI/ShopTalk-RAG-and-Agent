{
 "cells": [
  {
   "cell_type": "markdown",
   "metadata": {
    "id": "HLPQuz7E2VEF"
   },
   "source": [
    "# Agent Implementation ShopTalk\n",
    "\n",
    "Sometimes an Agent driven approach can be a simpler method to solving problems that are interacting with data in live. Here we define an Agent that enables us to access the CSV file and dynamically add to a dummy shopping cart or generate recommendations. This can be simpler than using RAG for this case which often requires more static data operations."
   ]
  },
  {
   "cell_type": "markdown",
   "metadata": {
    "id": "s-F5qPs8Dhm4"
   },
   "source": [
    "## Setup\n",
    "For orchestration we need langchain installed and our OpenAI API Key we will use gpt-40-mini as our model of choice."
   ]
  },
  {
   "cell_type": "code",
   "execution_count": 1,
   "metadata": {
    "id": "bzrUjHMsBuqe"
   },
   "outputs": [
    {
     "name": "stdout",
     "output_type": "stream",
     "text": [
      "Requirement already satisfied: LangChain in c:\\users\\dpengoria\\downloads\\deepak\\learning\\genai\\shoptalk assistant project\\shoptalk assistant project\\.venv\\lib\\site-packages (0.3.21)\n",
      "Requirement already satisfied: langchain-core<1.0.0,>=0.3.45 in c:\\users\\dpengoria\\downloads\\deepak\\learning\\genai\\shoptalk assistant project\\shoptalk assistant project\\.venv\\lib\\site-packages (from LangChain) (0.3.48)\n",
      "Requirement already satisfied: langchain-text-splitters<1.0.0,>=0.3.7 in c:\\users\\dpengoria\\downloads\\deepak\\learning\\genai\\shoptalk assistant project\\shoptalk assistant project\\.venv\\lib\\site-packages (from LangChain) (0.3.7)\n",
      "Requirement already satisfied: langsmith<0.4,>=0.1.17 in c:\\users\\dpengoria\\downloads\\deepak\\learning\\genai\\shoptalk assistant project\\shoptalk assistant project\\.venv\\lib\\site-packages (from LangChain) (0.3.18)\n",
      "Requirement already satisfied: pydantic<3.0.0,>=2.7.4 in c:\\users\\dpengoria\\downloads\\deepak\\learning\\genai\\shoptalk assistant project\\shoptalk assistant project\\.venv\\lib\\site-packages (from LangChain) (2.10.6)\n",
      "Requirement already satisfied: SQLAlchemy<3,>=1.4 in c:\\users\\dpengoria\\downloads\\deepak\\learning\\genai\\shoptalk assistant project\\shoptalk assistant project\\.venv\\lib\\site-packages (from LangChain) (2.0.39)\n",
      "Requirement already satisfied: requests<3,>=2 in c:\\users\\dpengoria\\downloads\\deepak\\learning\\genai\\shoptalk assistant project\\shoptalk assistant project\\.venv\\lib\\site-packages (from LangChain) (2.32.3)\n",
      "Requirement already satisfied: PyYAML>=5.3 in c:\\users\\dpengoria\\downloads\\deepak\\learning\\genai\\shoptalk assistant project\\shoptalk assistant project\\.venv\\lib\\site-packages (from LangChain) (6.0.2)\n",
      "Requirement already satisfied: tenacity!=8.4.0,<10.0.0,>=8.1.0 in c:\\users\\dpengoria\\downloads\\deepak\\learning\\genai\\shoptalk assistant project\\shoptalk assistant project\\.venv\\lib\\site-packages (from langchain-core<1.0.0,>=0.3.45->LangChain) (9.0.0)\n",
      "Requirement already satisfied: jsonpatch<2.0,>=1.33 in c:\\users\\dpengoria\\downloads\\deepak\\learning\\genai\\shoptalk assistant project\\shoptalk assistant project\\.venv\\lib\\site-packages (from langchain-core<1.0.0,>=0.3.45->LangChain) (1.33)\n",
      "Requirement already satisfied: packaging<25,>=23.2 in c:\\users\\dpengoria\\downloads\\deepak\\learning\\genai\\shoptalk assistant project\\shoptalk assistant project\\.venv\\lib\\site-packages (from langchain-core<1.0.0,>=0.3.45->LangChain) (24.2)\n",
      "Requirement already satisfied: typing-extensions>=4.7 in c:\\users\\dpengoria\\downloads\\deepak\\learning\\genai\\shoptalk assistant project\\shoptalk assistant project\\.venv\\lib\\site-packages (from langchain-core<1.0.0,>=0.3.45->LangChain) (4.13.0)\n",
      "Requirement already satisfied: httpx<1,>=0.23.0 in c:\\users\\dpengoria\\downloads\\deepak\\learning\\genai\\shoptalk assistant project\\shoptalk assistant project\\.venv\\lib\\site-packages (from langsmith<0.4,>=0.1.17->LangChain) (0.28.1)\n",
      "Requirement already satisfied: orjson<4.0.0,>=3.9.14 in c:\\users\\dpengoria\\downloads\\deepak\\learning\\genai\\shoptalk assistant project\\shoptalk assistant project\\.venv\\lib\\site-packages (from langsmith<0.4,>=0.1.17->LangChain) (3.10.16)\n",
      "Requirement already satisfied: requests-toolbelt<2.0.0,>=1.0.0 in c:\\users\\dpengoria\\downloads\\deepak\\learning\\genai\\shoptalk assistant project\\shoptalk assistant project\\.venv\\lib\\site-packages (from langsmith<0.4,>=0.1.17->LangChain) (1.0.0)\n",
      "Requirement already satisfied: zstandard<0.24.0,>=0.23.0 in c:\\users\\dpengoria\\downloads\\deepak\\learning\\genai\\shoptalk assistant project\\shoptalk assistant project\\.venv\\lib\\site-packages (from langsmith<0.4,>=0.1.17->LangChain) (0.23.0)\n",
      "Requirement already satisfied: annotated-types>=0.6.0 in c:\\users\\dpengoria\\downloads\\deepak\\learning\\genai\\shoptalk assistant project\\shoptalk assistant project\\.venv\\lib\\site-packages (from pydantic<3.0.0,>=2.7.4->LangChain) (0.7.0)\n",
      "Requirement already satisfied: pydantic-core==2.27.2 in c:\\users\\dpengoria\\downloads\\deepak\\learning\\genai\\shoptalk assistant project\\shoptalk assistant project\\.venv\\lib\\site-packages (from pydantic<3.0.0,>=2.7.4->LangChain) (2.27.2)\n",
      "Requirement already satisfied: charset-normalizer<4,>=2 in c:\\users\\dpengoria\\downloads\\deepak\\learning\\genai\\shoptalk assistant project\\shoptalk assistant project\\.venv\\lib\\site-packages (from requests<3,>=2->LangChain) (3.4.1)\n",
      "Requirement already satisfied: idna<4,>=2.5 in c:\\users\\dpengoria\\downloads\\deepak\\learning\\genai\\shoptalk assistant project\\shoptalk assistant project\\.venv\\lib\\site-packages (from requests<3,>=2->LangChain) (3.10)\n",
      "Requirement already satisfied: urllib3<3,>=1.21.1 in c:\\users\\dpengoria\\downloads\\deepak\\learning\\genai\\shoptalk assistant project\\shoptalk assistant project\\.venv\\lib\\site-packages (from requests<3,>=2->LangChain) (2.3.0)\n",
      "Requirement already satisfied: certifi>=2017.4.17 in c:\\users\\dpengoria\\downloads\\deepak\\learning\\genai\\shoptalk assistant project\\shoptalk assistant project\\.venv\\lib\\site-packages (from requests<3,>=2->LangChain) (2025.1.31)\n",
      "Requirement already satisfied: greenlet!=0.4.17 in c:\\users\\dpengoria\\downloads\\deepak\\learning\\genai\\shoptalk assistant project\\shoptalk assistant project\\.venv\\lib\\site-packages (from SQLAlchemy<3,>=1.4->LangChain) (3.1.1)\n",
      "Requirement already satisfied: anyio in c:\\users\\dpengoria\\downloads\\deepak\\learning\\genai\\shoptalk assistant project\\shoptalk assistant project\\.venv\\lib\\site-packages (from httpx<1,>=0.23.0->langsmith<0.4,>=0.1.17->LangChain) (4.9.0)\n",
      "Requirement already satisfied: httpcore==1.* in c:\\users\\dpengoria\\downloads\\deepak\\learning\\genai\\shoptalk assistant project\\shoptalk assistant project\\.venv\\lib\\site-packages (from httpx<1,>=0.23.0->langsmith<0.4,>=0.1.17->LangChain) (1.0.7)\n",
      "Requirement already satisfied: h11<0.15,>=0.13 in c:\\users\\dpengoria\\downloads\\deepak\\learning\\genai\\shoptalk assistant project\\shoptalk assistant project\\.venv\\lib\\site-packages (from httpcore==1.*->httpx<1,>=0.23.0->langsmith<0.4,>=0.1.17->LangChain) (0.14.0)\n",
      "Requirement already satisfied: jsonpointer>=1.9 in c:\\users\\dpengoria\\downloads\\deepak\\learning\\genai\\shoptalk assistant project\\shoptalk assistant project\\.venv\\lib\\site-packages (from jsonpatch<2.0,>=1.33->langchain-core<1.0.0,>=0.3.45->LangChain) (3.0.0)\n",
      "Requirement already satisfied: sniffio>=1.1 in c:\\users\\dpengoria\\downloads\\deepak\\learning\\genai\\shoptalk assistant project\\shoptalk assistant project\\.venv\\lib\\site-packages (from anyio->httpx<1,>=0.23.0->langsmith<0.4,>=0.1.17->LangChain) (1.3.1)\n"
     ]
    }
   ],
   "source": [
    "#!pip install langchain-openai\n",
    "#!pip install langchain_community\n",
    "!pip install LangChain"
   ]
  },
  {
   "cell_type": "code",
   "execution_count": null,
   "metadata": {
    "id": "HuEXxCxVCkhM"
   },
   "outputs": [],
   "source": [
    "# globals for OpenAI models. Replace your key for OPEN_API_KEY\n",
    "OPENAI_API_KEY = \"sk-ABCLSDFJL\"\n",
    "LLM_MODEL_NAME = \"gpt-4o-mini-2024-07-18\""
   ]
  },
  {
   "cell_type": "code",
   "execution_count": null,
   "metadata": {
    "colab": {
     "base_uri": "https://localhost:8080/"
    },
    "executionInfo": {
     "elapsed": 14211,
     "status": "ok",
     "timestamp": 1727630989332,
     "user": {
      "displayName": "Ram Vegiraju",
      "userId": "03170761428594033308"
     },
     "user_tz": 240
    },
    "id": "VcJaZ0xd3fSl",
    "outputId": "e33a821e-4384-440a-904d-b946aac3eb9d"
   },
   "outputs": [
    {
     "name": "stdout",
     "output_type": "stream",
     "text": [
      "Mounted at /content/drive\n"
     ]
    }
   ],
   "source": [
    "# from google.colab import drive\n",
    "# drive.mount('/content/drive')"
   ]
  },
  {
   "cell_type": "code",
   "execution_count": 3,
   "metadata": {
    "colab": {
     "base_uri": "https://localhost:8080/",
     "height": 310
    },
    "executionInfo": {
     "elapsed": 721,
     "status": "ok",
     "timestamp": 1727630991579,
     "user": {
      "displayName": "Ram Vegiraju",
      "userId": "03170761428594033308"
     },
     "user_tz": 240
    },
    "id": "ddBgCcFU3fYh",
    "outputId": "bd1124b7-1130-431f-b065-27e1911378e9"
   },
   "outputs": [
    {
     "data": {
      "text/html": [
       "<div>\n",
       "<style scoped>\n",
       "    .dataframe tbody tr th:only-of-type {\n",
       "        vertical-align: middle;\n",
       "    }\n",
       "\n",
       "    .dataframe tbody tr th {\n",
       "        vertical-align: top;\n",
       "    }\n",
       "\n",
       "    .dataframe thead th {\n",
       "        text-align: right;\n",
       "    }\n",
       "</style>\n",
       "<table border=\"1\" class=\"dataframe\">\n",
       "  <thead>\n",
       "    <tr style=\"text-align: right;\">\n",
       "      <th></th>\n",
       "      <th>Unnamed: 0</th>\n",
       "      <th>Item ID</th>\n",
       "      <th>Item Name - Language Tag</th>\n",
       "      <th>Item Name - Value</th>\n",
       "      <th>Main Image ID</th>\n",
       "      <th>Other Image IDs</th>\n",
       "      <th>Item Keywords</th>\n",
       "    </tr>\n",
       "  </thead>\n",
       "  <tbody>\n",
       "    <tr>\n",
       "      <th>0</th>\n",
       "      <td>0</td>\n",
       "      <td>B06X9STHNG</td>\n",
       "      <td>nl_NL</td>\n",
       "      <td>Amazon-merk - vinden. Dames Leder Gesloten Tee...</td>\n",
       "      <td>81iZlv3bjpL</td>\n",
       "      <td>['91mIRxgziUL', '91eqBkW06wL', 'A1BHZSKNbkL']</td>\n",
       "      <td>['loafer shoes', 'womens shoes', 'womens fashi...</td>\n",
       "    </tr>\n",
       "    <tr>\n",
       "      <th>1</th>\n",
       "      <td>1</td>\n",
       "      <td>B07P8ML82R</td>\n",
       "      <td>es_MX</td>\n",
       "      <td>22\" Bottom Mount Drawer Slides, White Powder C...</td>\n",
       "      <td>619y9YG9cnL</td>\n",
       "      <td>['51Fqps5k9YL', '51lCKFuYuWL']</td>\n",
       "      <td>['café claro', 'pistas', 'con', 'cierre', 'Hog...</td>\n",
       "    </tr>\n",
       "    <tr>\n",
       "      <th>2</th>\n",
       "      <td>2</td>\n",
       "      <td>B07H9GMYXS</td>\n",
       "      <td>en_AE</td>\n",
       "      <td>AmazonBasics PETG 3D Printer Filament, 1.75mm,...</td>\n",
       "      <td>81NP7qh2L6L</td>\n",
       "      <td>['81A0u5L4VAL', '61xhS6iLrZL']</td>\n",
       "      <td>['petg filament', 'petg printer filament', 'tr...</td>\n",
       "    </tr>\n",
       "    <tr>\n",
       "      <th>3</th>\n",
       "      <td>3</td>\n",
       "      <td>B07CTPR73M</td>\n",
       "      <td>en_GB</td>\n",
       "      <td>Stone &amp; Beam Stone Brown Swatch, 25020039-01</td>\n",
       "      <td>61Rp4qOih9L</td>\n",
       "      <td>[]</td>\n",
       "      <td>['couch', 'button', 'reclining', 'sets', 'love...</td>\n",
       "    </tr>\n",
       "    <tr>\n",
       "      <th>4</th>\n",
       "      <td>4</td>\n",
       "      <td>B01MTEI8M6</td>\n",
       "      <td>en_AU</td>\n",
       "      <td>The Fix Amazon Brand Women's French Floral Emb...</td>\n",
       "      <td>714CmIfKIYL</td>\n",
       "      <td>['71C4hQAAs2L', '718uEco1DAL', '71BMHcaG5GL', ...</td>\n",
       "      <td>['zapatos shoe para de ladies mujer womans moc...</td>\n",
       "    </tr>\n",
       "  </tbody>\n",
       "</table>\n",
       "</div>"
      ],
      "text/plain": [
       "   Unnamed: 0     Item ID Item Name - Language Tag  \\\n",
       "0           0  B06X9STHNG                    nl_NL   \n",
       "1           1  B07P8ML82R                    es_MX   \n",
       "2           2  B07H9GMYXS                    en_AE   \n",
       "3           3  B07CTPR73M                    en_GB   \n",
       "4           4  B01MTEI8M6                    en_AU   \n",
       "\n",
       "                                   Item Name - Value Main Image ID  \\\n",
       "0  Amazon-merk - vinden. Dames Leder Gesloten Tee...   81iZlv3bjpL   \n",
       "1  22\" Bottom Mount Drawer Slides, White Powder C...   619y9YG9cnL   \n",
       "2  AmazonBasics PETG 3D Printer Filament, 1.75mm,...   81NP7qh2L6L   \n",
       "3       Stone & Beam Stone Brown Swatch, 25020039-01   61Rp4qOih9L   \n",
       "4  The Fix Amazon Brand Women's French Floral Emb...   714CmIfKIYL   \n",
       "\n",
       "                                     Other Image IDs  \\\n",
       "0      ['91mIRxgziUL', '91eqBkW06wL', 'A1BHZSKNbkL']   \n",
       "1                     ['51Fqps5k9YL', '51lCKFuYuWL']   \n",
       "2                     ['81A0u5L4VAL', '61xhS6iLrZL']   \n",
       "3                                                 []   \n",
       "4  ['71C4hQAAs2L', '718uEco1DAL', '71BMHcaG5GL', ...   \n",
       "\n",
       "                                       Item Keywords  \n",
       "0  ['loafer shoes', 'womens shoes', 'womens fashi...  \n",
       "1  ['café claro', 'pistas', 'con', 'cierre', 'Hog...  \n",
       "2  ['petg filament', 'petg printer filament', 'tr...  \n",
       "3  ['couch', 'button', 'reclining', 'sets', 'love...  \n",
       "4  ['zapatos shoe para de ladies mujer womans moc...  "
      ]
     },
     "execution_count": 3,
     "metadata": {},
     "output_type": "execute_result"
    }
   ],
   "source": [
    "import pandas as pd\n",
    "\n",
    "df  = pd.read_csv('data/products_data.csv')\n",
    "df.head()"
   ]
  },
  {
   "cell_type": "markdown",
   "metadata": {
    "id": "g04vAl6lDsL-"
   },
   "source": [
    "## Sample Functions to Mimic Agents\n",
    "\n",
    "Before we get into our Agent definition, we want to understand what exactly we want to achieve. At the end of the day we are simply feeding Python functions as tools for our Agent to choose from depending on the input query. Here we define two tools:\n",
    "- <b>Recommendation Retriever</b>:\n",
    "- <b>Shopping Cart Assembly</b>:"
   ]
  },
  {
   "cell_type": "code",
   "execution_count": 4,
   "metadata": {
    "id": "6N6UZ8r_5UD6"
   },
   "outputs": [],
   "source": [
    "def retrieve_top_recs(csv_path: str, item_type: str) -> dict:\n",
    "    # read CSV file this is a default in this case for us\n",
    "    # df = pd.read_csv(csv_path)\n",
    "\n",
    "    # filter the dataframe for the item types\n",
    "    filtered_df = df[df['Item Keywords'].apply(lambda x: item_type in str(x))]\n",
    "\n",
    "    # throw an error if the asked for item is not present\n",
    "    if len(filtered_df) == 0:\n",
    "      raise ValueError(f\"Enter in an item/keyword that can be found, we have no entries matching: {item_type} in our order list.\")\n",
    "\n",
    "    # return a dictionary with the items\n",
    "    filtered_dict = filtered_df.to_dict(orient='records')\n",
    "    return filtered_dict\n",
    "\n",
    "def add_to_cart(csv_path: str, item_ids: list) -> list[dict]:\n",
    "    # read hardcoded csv into DF\n",
    "    # df = pd.read_csv(csv_path)\n",
    "\n",
    "    # shopping cart\n",
    "    shopping_cart = []\n",
    "\n",
    "    # Loop through the list of item IDs\n",
    "    for item_id in item_ids:\n",
    "\n",
    "        # check for the ID\n",
    "        filtered_row = df[df['Item ID'] == item_id]\n",
    "\n",
    "        # add to shopping cart\n",
    "        if not filtered_row.empty:\n",
    "            shopping_cart.append(filtered_row.to_dict(orient='records')[0])\n",
    "\n",
    "        # throw an error if ID not found\n",
    "        else:\n",
    "            raise ValueError(f\"Item ID '{item_id}' not found in the order list.\")\n",
    "\n",
    "    return shopping_cart"
   ]
  },
  {
   "cell_type": "code",
   "execution_count": 5,
   "metadata": {
    "colab": {
     "base_uri": "https://localhost:8080/"
    },
    "executionInfo": {
     "elapsed": 181,
     "status": "ok",
     "timestamp": 1727631704101,
     "user": {
      "displayName": "Ram Vegiraju",
      "userId": "03170761428594033308"
     },
     "user_tz": 240
    },
    "id": "XlH8At6_5ddD",
    "outputId": "c7b6a27e-cc6f-46a3-a099-f9f9228c1731"
   },
   "outputs": [
    {
     "name": "stdout",
     "output_type": "stream",
     "text": [
      "[{'Unnamed: 0': 3, 'Item ID': 'B07CTPR73M', 'Item Name - Language Tag': 'en_GB', 'Item Name - Value': 'Stone & Beam Stone Brown Swatch, 25020039-01', 'Main Image ID': '61Rp4qOih9L', 'Other Image IDs': '[]', 'Item Keywords': \"['couch', 'button', 'reclining', 'sets', 'loveseats', 'rolled', 'daybed', 'set', 'red', 'with', 'tufted', 'chesterfield', 'windmill', 'queen', 'fabric', 'upholstered', 'power', 'vanity', 'homelegance', 'for', 'and', 'size', 'silver', 'wind spinners', 'farmhouse', 'outdoor fountain', 'living', 'savonburg', 'love', 'couches', 'sofas', 'room', 'loveseat', 'a', 'leather', 'arm', 'trundle', 'sofa', 'seat']\"}, {'Unnamed: 0': 122, 'Item ID': 'B07TMH6289', 'Item Name - Language Tag': 'zh_TW', 'Item Name - Value': 'AmazonBasics LeatherSoft 兒童/青少年躺椅 配有扶手儲物格 適用於 5 歲以上人群', 'Main Image ID': '71T+bO0FkKL', 'Other Image IDs': \"['918T-x94B3L', '71G+u16bPnL', '717XfaQrSbL', '71jSPkybUsL', '612fFLXTo8L', '51Lrh4K5CHL']\", 'Item Keywords': \"['', 'couch', 'baby', 'playroom', 'rocking', 'bed', 'ottoman', 'rae', 'registry', 'da6942', 'pink', '&', 'marshmallow', 'gliding', 'chairs', 'boys', 'gray', 'glider', 'dorel', 'kids', 'seater', 'small', 'ann', 'ottomans', 'nursery', 'rocker', 'throne', 'kid', 'living', 'furniture', 'mikayla', 'girls', 'couches', 'swivel', 'linen', 'gliders', 'relax', 'marshmello', 'viv', 'arm', 'recliners', 'toddlers', 'room', 'nursing']\"}, {'Unnamed: 0': 158, 'Item ID': 'B075X4QMW7', 'Item Name - Language Tag': 'ko_KR', 'Item Name - Value': 'Rivet Eva 터프트 미드센트리 벨벳 다운 필드 소파', 'Main Image ID': '81KZp1brWYL', 'Other Image IDs': \"['818WXL2uM1L', 'A1P3tPyy2nL', '91G+LmavNML']\", 'Item Keywords': \"['chair', 'couch', 'Navy', 'recliner chair', 'Sofa', 'accent chair', 'sofas', 'sectional sofa', 'sofa sets for living room', 'loveseat', 'sectional couch', 'Rivet', 'modern', 'mid century', 'sofa', 'sleeper sofa', 'Blue']\"}, {'Unnamed: 0': 455, 'Item ID': 'B07P5LMG29', 'Item Name - Language Tag': 'zh_CN', 'Item Name - Value': 'Amazon Brand – Stone & Beam Leila 天鹅绒簇绒座椅系列, 棕色（Saddle）', 'Main Image ID': '51mJUzKW6cL', 'Other Image IDs': \"['71Fz8X09FwL', '91zYF5PvMYL', '51TRqis7MbL', 'A1Lub6A6qHL']\", 'Item Keywords': \"['couch', 'storage', 'white', 'square', 'kitchen', 'azure', 'cocktail', 'ben', 'taylor', 'grey', 'tray', 'bench', 'extra', 'foot', 'lauren', 'gray', 'mid', 'table', 'lexmod', 'small', 'ottomans', 'deep', 'footstools', 'farmhouse', 'entryway', 'retro', 'living', 'furniture', 'rivet', 'otto', 'stools', 'couches', 'furnture', 'midway', 'bedroom', 'knight', 'large', 'sofa', 'room', 'best', 'long', 'jennifer', 'rest', 'big']\"}]\n",
      "4\n",
      "[{'Unnamed: 0': 3, 'Item ID': 'B07CTPR73M', 'Item Name - Language Tag': 'en_GB', 'Item Name - Value': 'Stone & Beam Stone Brown Swatch, 25020039-01', 'Main Image ID': '61Rp4qOih9L', 'Other Image IDs': '[]', 'Item Keywords': \"['couch', 'button', 'reclining', 'sets', 'loveseats', 'rolled', 'daybed', 'set', 'red', 'with', 'tufted', 'chesterfield', 'windmill', 'queen', 'fabric', 'upholstered', 'power', 'vanity', 'homelegance', 'for', 'and', 'size', 'silver', 'wind spinners', 'farmhouse', 'outdoor fountain', 'living', 'savonburg', 'love', 'couches', 'sofas', 'room', 'loveseat', 'a', 'leather', 'arm', 'trundle', 'sofa', 'seat']\"}, {'Unnamed: 0': 4, 'Item ID': 'B01MTEI8M6', 'Item Name - Language Tag': 'en_AU', 'Item Name - Value': \"The Fix Amazon Brand Women's French Floral Embroidery Slide Slip-on Loafer, Havana Tan, 6.5 B US\", 'Main Image ID': '714CmIfKIYL', 'Other Image IDs': \"['71C4hQAAs2L', '718uEco1DAL', '71BMHcaG5GL', '7105JsM1HYL', '71F5emAT2DL', '81KXLckXuxL', '71iDTnkSlsL']\", 'Item Keywords': \"['zapatos shoe para de ladies mujer womans mocasines', 'designer fashion moda cocktail work wear business office sexy spring fall gifts for her']\"}]\n",
      "2\n"
     ]
    }
   ],
   "source": [
    "# test functions\n",
    "print(retrieve_top_recs('/content/drive/MyDrive/ShopTalk/data/products_data.csv', item_type = 'couch'))\n",
    "print(len(retrieve_top_recs('/content/drive/MyDrive/ShopTalk/data/products_data.csv', item_type = 'couch')))\n",
    "print(add_to_cart('/content/drive/MyDrive/ShopTalk/data/products_data.csv', item_ids=['B07CTPR73M', 'B01MTEI8M6']))\n",
    "print(len(add_to_cart('/content/drive/MyDrive/ShopTalk/data/products_data.csv', item_ids=['B07CTPR73M', 'B01MTEI8M6'])))"
   ]
  },
  {
   "cell_type": "markdown",
   "metadata": {
    "id": "_B0XDR2RH0NH"
   },
   "source": [
    "## LangChain Tool & Agent Setup"
   ]
  },
  {
   "cell_type": "code",
   "execution_count": 8,
   "metadata": {
    "colab": {
     "base_uri": "https://localhost:8080/"
    },
    "executionInfo": {
     "elapsed": 2553,
     "status": "ok",
     "timestamp": 1727631846427,
     "user": {
      "displayName": "Ram Vegiraju",
      "userId": "03170761428594033308"
     },
     "user_tz": 240
    },
    "id": "WhZCuWqeAJJm",
    "outputId": "887431dd-3267-4a10-f45f-fdc58d35f021"
   },
   "outputs": [],
   "source": [
    "from langchain import OpenAI\n",
    "from langchain.agents import initialize_agent, Tool\n",
    "from langchain.agents import AgentType\n",
    "from langchain.prompts import PromptTemplate\n",
    "import os\n",
    "\n",
    "# Define the tools to be used by the LangChain agent\n",
    "tools = [\n",
    "    Tool(\n",
    "        name=\"Retrieve Recommendations\",\n",
    "        func=lambda query: retrieve_top_recs('data/products_data.csv', query),\n",
    "        description=\"Retrieve top recommendations based on the item type. Input should be the item type.\"\n",
    "    ),\n",
    "    Tool(\n",
    "        name=\"Add to Cart\",\n",
    "        func=lambda query: add_to_cart('data/products_data.csv', query.replace(' ', ',').split(',')),  # Assuming query is comma-separated item IDs\n",
    "        description=\"Add items to the cart based on their item IDs. Input should be space-separated item IDs.\"\n",
    "    )\n",
    "]\n",
    "\n",
    "# Instantiate LLM\n",
    "from langchain.chat_models import ChatOpenAI\n",
    "os.environ[\"OPENAI_API_KEY\"] = OPENAI_API_KEY\n",
    "llm = ChatOpenAI(model=LLM_MODEL_NAME)\n",
    "\n",
    "# Define a basic prompt template\n",
    "# template = \"\"\"You are a smart Ecommerce assistant. Your job is to take the input queries and apply the proper tool to either return recommendations\n",
    "# or add to the shopping cart.\n",
    "\n",
    "# User query: {input}\"\"\"\n",
    "# prompt = PromptTemplate(input_variables=[\"input\"], template=template)"
   ]
  },
  {
   "cell_type": "code",
   "execution_count": 9,
   "metadata": {
    "colab": {
     "base_uri": "https://localhost:8080/"
    },
    "executionInfo": {
     "elapsed": 157,
     "status": "ok",
     "timestamp": 1727631855486,
     "user": {
      "displayName": "Ram Vegiraju",
      "userId": "03170761428594033308"
     },
     "user_tz": 240
    },
    "id": "eq303F-V-mhq",
    "outputId": "9a626f21-8cbb-49e3-cd92-96c39bac3ae3"
   },
   "outputs": [
    {
     "name": "stderr",
     "output_type": "stream",
     "text": [
      "C:\\Users\\dpengoria\\AppData\\Local\\Temp\\ipykernel_44420\\789059834.py:2: LangChainDeprecationWarning: LangChain agents will continue to be supported, but it is recommended for new use cases to be built with LangGraph. LangGraph offers a more flexible and full-featured framework for building agents, including support for tool-calling, persistence of state, and human-in-the-loop workflows. For details, refer to the `LangGraph documentation <https://langchain-ai.github.io/langgraph/>`_ as well as guides for `Migrating from AgentExecutor <https://python.langchain.com/docs/how_to/migrate_agent/>`_ and LangGraph's `Pre-built ReAct agent <https://langchain-ai.github.io/langgraph/how-tos/create-react-agent/>`_.\n",
      "  agent = initialize_agent(\n"
     ]
    }
   ],
   "source": [
    "# Define ReAct Agent\n",
    "agent = initialize_agent(\n",
    "    tools=tools,\n",
    "    agent=AgentType.ZERO_SHOT_REACT_DESCRIPTION,\n",
    "    llm=llm,\n",
    "    verbose=True\n",
    ")"
   ]
  },
  {
   "cell_type": "code",
   "execution_count": 10,
   "metadata": {
    "colab": {
     "base_uri": "https://localhost:8080/"
    },
    "executionInfo": {
     "elapsed": 5982,
     "status": "ok",
     "timestamp": 1727632625002,
     "user": {
      "displayName": "Ram Vegiraju",
      "userId": "03170761428594033308"
     },
     "user_tz": 240
    },
    "id": "MGzKFgbl-mkE",
    "outputId": "44dde02e-aedc-442f-9ef3-dd65d8405d70"
   },
   "outputs": [
    {
     "name": "stderr",
     "output_type": "stream",
     "text": [
      "C:\\Users\\dpengoria\\AppData\\Local\\Temp\\ipykernel_44420\\3475500035.py:1: LangChainDeprecationWarning: The method `Chain.run` was deprecated in langchain 0.1.0 and will be removed in 1.0. Use :meth:`~invoke` instead.\n",
      "  response = agent.run(\"Retrieve Recommendations for shoes\")\n"
     ]
    },
    {
     "name": "stdout",
     "output_type": "stream",
     "text": [
      "\n",
      "\n",
      "\u001b[1m> Entering new AgentExecutor chain...\u001b[0m\n",
      "\u001b[32;1m\u001b[1;3mI need to find the top recommendations for shoes. \n",
      "Action: Retrieve Recommendations  \n",
      "Action Input: shoes  \u001b[0m\n",
      "Observation: \u001b[36;1m\u001b[1;3m[{'Unnamed: 0': 0, 'Item ID': 'B06X9STHNG', 'Item Name - Language Tag': 'nl_NL', 'Item Name - Value': 'Amazon-merk - vinden. Dames Leder Gesloten Teen Hakken,Veelkleurig Vrouw Blauw,5 UK', 'Main Image ID': '81iZlv3bjpL', 'Other Image IDs': \"['91mIRxgziUL', '91eqBkW06wL', 'A1BHZSKNbkL']\", 'Item Keywords': \"['loafer shoes', 'womens shoes', 'womens fashion', 'womens loafers', 'womenswear', 'block heel shoes', 'loafers', 'womens block heel shoes', 'metallic shoes', 'womens loafer shoes']\"}, {'Unnamed: 0': 34, 'Item ID': 'B06XGHBRCL', 'Item Name - Language Tag': 'nl_NL', 'Item Name - Value': 'Amazon-merk - vinden. Archer, Heren Trainers,Kleur: wit,12 UK', 'Main Image ID': '71RKqQao9rL', 'Other Image IDs': \"['91Swd-i+g1L', '916tzgPV7eL', '81zbbOBpbVL']\", 'Item Keywords': \"['low top trainers', 'mens shoes', 'trainers', 'low top sneakers', 'low top', 'low tops', 'mens trainers', 'sneakers', 'shoes']\"}, {'Unnamed: 0': 54, 'Item ID': 'B07WG3V91C', 'Item Name - Language Tag': 'en_IN', 'Item Name - Value': \"Amazon Brand - Symbol Men's Tan PU Formal Shoes - 9 UK (AZ-SY-437)\", 'Main Image ID': '814RXC4DgkL', 'Other Image IDs': \"['81AkJF9Qp1L', '71N8gua4IkL', '81hVakVgA5L', '61PpzNSBgsL', '819lkJd4ofL']\", 'Item Keywords': \"['mens shoes', 'men shoes casual shoes', 'shoes for men formal', 'shoes for men', 'formal shoes for men black', 'formal shoes for mens leather', 'leather shoes for mens', 'shoes', 'leather shoes for men formal branded']\"}, {'Unnamed: 0': 66, 'Item ID': 'B075T4CJTY', 'Item Name - Language Tag': 'en_IN', 'Item Name - Value': \"Amazon Brand - Symbol Men's Leather Formal Slip-on shoes/India (44 EU)(AZ-WS-126B)\", 'Main Image ID': '71cyz3P4DKL', 'Other Image IDs': \"['81iwpF+OU+L', '81eqfbhKglL', '81-N-WTh4HL']\", 'Item Keywords': \"['mens shoes', 'Black', 'men shoes casual shoes', 'shoes for men formal', 'shoes for men', 'formal shoes for men black', 'formal shoes for mens leather', 'leather shoes for mens', 'shoes', 'leather shoes for men formal branded']\"}, {'Unnamed: 0': 149, 'Item ID': 'B075T4DC11', 'Item Name - Language Tag': 'en_IN', 'Item Name - Value': \"Amazon Brand - Symbol Men's Suede Leather Casual Derby shoes - 7 UK/India (41 EU)(AZ-WS-120A)\", 'Main Image ID': '91MCy5GYp8L', 'Other Image IDs': \"['81CyEyGWJkL', '815ovmykwrL', '81q81GAX9ML', '81pxw8wevSL']\", 'Item Keywords': \"['mens shoes', 'men shoes casual shoes', 'casual shoes for mens', 'lofar shoes for mens', 'sneakers for mens', 'sneakers', 'shoes for men', 'shoes', 'loafers', 'white shoes for mens sneakers', 'loafers for mens stylish latest']\"}, {'Unnamed: 0': 150, 'Item ID': 'B07WG3VF1J', 'Item Name - Language Tag': 'en_IN', 'Item Name - Value': \"Amazon Brand - Symbol Men's Brown PU Formal Shoes - 7 UK (AZ-SY-437)\", 'Main Image ID': '81Ev54-ydWL', 'Other Image IDs': \"['715J4Ck6SHL', '81IGRWN1C9L', '71OvJWz+bIL', '816H2xRK0cL', '91aU4DH0CZL']\", 'Item Keywords': \"['mens shoes', 'men shoes casual shoes', 'Brown', 'shoes for men formal', 'shoes for men', 'formal shoes for men black', 'formal shoes for mens leather', 'leather shoes for mens', 'shoes', 'leather shoes for men formal branded']\"}, {'Unnamed: 0': 194, 'Item ID': 'B07RDQJG32', 'Item Name - Language Tag': 'en_IN', 'Item Name - Value': \"Amazon Brand - Arthur Harvey Men's BLACK Leather Formal Shoes - 9 UK (AZ-ST-004A)\", 'Main Image ID': '71Eal7ed8dL', 'Other Image IDs': \"['71dGjAackGL', '81WOEGXh-sL', '719Aq7Ves0L', '71OgWpRigWL', '71SzUxSbd2L', '71NCeZeKZkL']\", 'Item Keywords': \"['mens shoes', 'men shoes casual shoes', 'shoes for men formal', 'shoes for men', 'formal shoes for men black', 'formal shoes for mens leather', 'leather shoes for mens', 'shoes', 'leather shoes for men formal branded']\"}, {'Unnamed: 0': 226, 'Item ID': 'B079TYGKB9', 'Item Name - Language Tag': 'en_IN', 'Item Name - Value': \"Amazon Brand - Symbol Men's Grey Synthetic Formal Shoes - 8 UK (AZ-KY-292B)\", 'Main Image ID': '812jtub4q9L', 'Other Image IDs': \"['717jVZjnAiL', '81r0xzlJFgL', '71t455+IqyL', '71R1BdxccBL', '81WeWwc-ttL']\", 'Item Keywords': \"['mens shoes', 'men shoes casual shoes', 'shoes for men formal', 'shoes for men', 'formal shoes for men black', 'formal shoes for mens leather', 'leather shoes for mens', 'shoes', 'leather shoes for men formal branded']\"}, {'Unnamed: 0': 239, 'Item ID': 'B07PMT5Y8D', 'Item Name - Language Tag': 'en_GB', 'Item Name - Value': 'Amazon Essentials Belice Ballet Flat, Black, 12.5 M US', 'Main Image ID': '61LXr87tpJL', 'Other Image IDs': \"['71zVOlkbsEL', '714BktLFdUL', '71PX-se-2KL', '71TyDf2RiAL', '71EHvwd5LjL', '71EgCU5rXnL', '7150+rj-ZmL']\", 'Item Keywords': '[\"ballet flats, flats, women\\'s shoes\", \\'amazon\\']'}, {'Unnamed: 0': 259, 'Item ID': 'B07DMX3TVH', 'Item Name - Language Tag': 'en_IN', 'Item Name - Value': \"Amazon Brand - Symbol Men's Sneakers\", 'Main Image ID': '81WY1x3Sj0L', 'Other Image IDs': \"['81fiLJiNw9L', '81kFw+ZeYJL', '81+XE5AVVfL']\", 'Item Keywords': '[\"men\\'s shoes casual\", \\'casual shoes for mens stylish\\', \\'casual shoes\\', \\'shoes for mens casual\\', \\'sneakers for men stylish\\', \\'men shoes casual wear\\', \\'casual shoe\\', \\'shoes\\', \\'men sneakers shoes\\', \\'sneaker\\', \\'men sneakers\\', \\'men casual shoes\\', \\'sneakers shoes\\', \\'mens sneakers\\', \\'sneaker for mens\\', \\'sneakers\\', \\'mens casual shoe\\', \\'shoes for mens casual stylish\\', \\'mens casual shoes\\', \\'mens shoes casual\\', \\'shoes for mens stylish sneakers\\', \\'mens shoes casual sneakers\\', \\'men casual shoe\\', \\'sneakers shoes for men\\', \\'shoes casual\\', \\'casual shoes for mens\\', \\'casual shoes for men\\', \\'sneakers for mens\\', \\'sneakers for men\\']'}, {'Unnamed: 0': 277, 'Item ID': 'B07914BSLG', 'Item Name - Language Tag': 'en_IN', 'Item Name - Value': \"Amazon Brand - Symbol Men's White Sneakers-11 UK/India (46 EU) (AZ-YS-187 C)\", 'Main Image ID': '715AhvOEe4L', 'Other Image IDs': \"['81B4oB6KziL', '715pT5Y-AZL', '71ilri9nI7L']\", 'Item Keywords': \"['mens shoes', 'men shoes casual shoes', 'casual shoes for mens', 'lofar shoes for mens', 'sneakers for mens', 'sneakers', 'shoes for men', 'shoes', 'loafers', 'white shoes for mens sneakers', 'loafers for mens stylish latest']\"}, {'Unnamed: 0': 313, 'Item ID': 'B07L8RQ3QT', 'Item Name - Language Tag': 'en_GB', 'Item Name - Value': 'The Drop Lyon Block Heeled Strappy Sandal, Black, 8.5 (US) 6.5 (UK)', 'Main Image ID': '61W5qn3rW-L', 'Other Image IDs': \"['61v37m-sodL', '61msd9f0JnL', '51nZ3JObeAL', '61BaYmw1fEL', '61cOymJjgIL', '61ue46vQi1L', '51szOKIiMCL']\", 'Item Keywords': \"['women woman ladies female shoes sandals casual basics essentials influencer fashion']\"}, {'Unnamed: 0': 346, 'Item ID': 'B07T79J89G', 'Item Name - Language Tag': 'en_IN', 'Item Name - Value': \"Amazon Brand - Symactive Men's Running Shoes\", 'Main Image ID': '91VsDWkfYXL', 'Other Image IDs': \"['91oaMUKJl2L', '91KE2HZJg6L', '91OXAH2bJyL', '919ur479sSL', '816HId7-w+L']\", 'Item Keywords': \"['sport shoes for men', 'running shoes for mens sport', 'sports shoes', 'sport shoes', 'sports shoes for mens', 'men shoes', 'shoes for men', 'shoes', 'no_color', 'shoes for mens sports', 'shoes for men stylish', 'running shoes', 'shoe']\"}, {'Unnamed: 0': 396, 'Item ID': 'B07FR5RHKS', 'Item Name - Language Tag': 'nl_NL', 'Item Name - Value': 'Amazon Essentials vrouwen Casual Strappy Sandaal,Goud,6 B US (UK 4)', 'Main Image ID': '71tcWPxJWjL', 'Other Image IDs': \"['61uIVRSVe9L', '81hvwgHKZIL', '61pQ0Kd3RrL', '814Qfkx1C-L', '71cIvPUrRIL', '71HhLEHOVcL', '71KFH3fHM8L']\", 'Item Keywords': \"['women woman female clothing apparel shoes sandals casual summer spring']\"}, {'Unnamed: 0': 412, 'Item ID': 'B0845BSDN4', 'Item Name - Language Tag': 'ml_IN', 'Item Name - Value': 'Flavia സ്ത്രീകളുടെ റണ്ണിംഗ് ഷൂസ് - ബഹുവർണ്ണം - 9 uk', 'Main Image ID': '71aZEGItROL', 'Other Image IDs': \"['7132g3pfoOL', '71IYpV5dpML', '71ulssO0bSL', '71-+Zbx+R8L', '7105sa-UWeL', '71eRYXU6xXL']\", 'Item Keywords': \"['shoes for women stylish', 'footwear for women stylish', 'shoes for women latest design', 'sneakers for women', 'sports shoes for women', 'ladies shoes', 'shoes for women', 'shoes for girls', 'women shoes for walking']\"}, {'Unnamed: 0': 452, 'Item ID': 'B07RTKVZKC', 'Item Name - Language Tag': 'en_IN', 'Item Name - Value': \"Amazon Brand - Symactive Men's Black Walking Shoes-6 UK (40 EU) (7 US) (SYM-YS-009B)\", 'Main Image ID': '81qpmnO3a3L', 'Other Image IDs': \"['91FRo+eNT5L', '81ak0l028FL', '81+QDEHtPCL', '81QhYxtFD7L', '81-wg68fN1L']\", 'Item Keywords': \"['mens shoes', 'shoes for mens', 'sports shoes for men', 'sport shoes for men', 'sports shoes for mens under', 'sports shoes', 'shoes for men', 'shoes for mens sports', 'walking shoes', 'shoes for men stylish', 'running shoes', 'Black']\"}, {'Unnamed: 0': 457, 'Item ID': 'B079145LXJ', 'Item Name - Language Tag': 'en_IN', 'Item Name - Value': \"Amazon Brand - Symbol Men's Navy Suede Sneakers-8 UK/India (42 EU) (AZ-YS-196 A)\", 'Main Image ID': '81iQbWaCmXL', 'Other Image IDs': \"['91HRt1g86hL', '91okhWAqZpL', '91wapAXEbML']\", 'Item Keywords': \"['mens shoes', 'men shoes casual shoes', 'casual shoes for mens', 'lofar shoes for mens', 'sneakers for mens', 'sneakers', 'shoes for men', 'shoes', 'loafers', 'white shoes for mens sneakers', 'loafers for mens stylish latest']\"}, {'Unnamed: 0': 474, 'Item ID': 'B07BDZC5N1', 'Item Name - Language Tag': 'en_IN', 'Item Name - Value': \"Amazon Brand - Symbol Men's Red Sneakers-11 (AZ-YS-190 B)\", 'Main Image ID': '81aQCiX3qJL', 'Other Image IDs': \"['71HnKxzGheL', '81bsxCOfpML', '81vxXNOGrKL', '71M4wULlXwL', '713q4YNpjXL']\", 'Item Keywords': '[\"men\\'s shoes casual\", \\'casual shoes for mens stylish\\', \\'casual shoes\\', \\'shoes for mens casual\\', \\'sneakers for men stylish\\', \\'men shoes casual wear\\', \\'casual shoe\\', \\'shoes\\', \\'men sneakers shoes\\', \\'sneaker\\', \\'men sneakers\\', \\'men casual shoes\\', \\'sneakers shoes\\', \\'mens sneakers\\', \\'sneaker for mens\\', \\'sneakers\\', \\'mens casual shoe\\', \\'shoes for mens casual stylish\\', \\'mens casual shoes\\', \\'mens shoes casual\\', \\'shoes for mens stylish sneakers\\', \\'mens shoes casual sneakers\\', \\'men casual shoe\\', \\'sneakers shoes for men\\', \\'shoes casual\\', \\'casual shoes for mens\\', \\'casual shoes for men\\', \\'sneakers for mens\\', \\'sneakers for men\\']'}, {'Unnamed: 0': 484, 'Item ID': 'B08442GL86', 'Item Name - Language Tag': 'en_IN', 'Item Name - Value': \"Amazon Brand - Symbol Women's Brown Ballet Flats-3 UK (36 EU) (6 US) (SYM-WS-005)\", 'Main Image ID': '816qdpPbPnL', 'Other Image IDs': \"['71ivbC1zjoL', '71-Wag1hCSL', '81UEGOXS62L', '81KaKN4m60L', '71EBqNSM6XL']\", 'Item Keywords': \"['shoes for women stylish', 'shoes for girls', 'footwear for women stylish', 'women footwear', 'flats for womens casual', 'ladies shoes', 'shoes for women', 'women shoes', 'bellies for women stylish', 'sandal for women stylish']\"}]\u001b[0m\n",
      "Thought:\u001b[32;1m\u001b[1;3mI have retrieved a list of top shoe recommendations. Now I need to present these recommendations in a clear format.\n",
      "\n",
      "Final Answer: Here are some top recommendations for shoes:\n",
      "1. **Amazon-merk - vinden. Dames Leder Gesloten Teen Hakken, Veelkleurig Vrouw Blauw, 5 UK** (Item ID: B06X9STHNG)\n",
      "   ![Image](https://images.example.com/81iZlv3bjpL)\n",
      "   \n",
      "2. **Amazon-merk - vinden. Archer, Heren Trainers, Kleur: wit, 12 UK** (Item ID: B06XGHBRCL)\n",
      "   ![Image](https://images.example.com/71RKqQao9rL)\n",
      "\n",
      "3. **Amazon Brand - Symbol Men's Tan PU Formal Shoes - 9 UK (AZ-SY-437)** (Item ID: B07WG3V91C)\n",
      "   ![Image](https://images.example.com/814RXC4DgkL)\n",
      "\n",
      "4. **Amazon Brand - Symbol Men's Leather Formal Slip-on shoes/India (44 EU)(AZ-WS-126B)** (Item ID: B075T4CJTY)\n",
      "   ![Image](https://images.example.com/71cyz3P4DKL)\n",
      "\n",
      "5. **Amazon Brand - Symbol Men's Suede Leather Casual Derby shoes - 7 UK/India (41 EU)(AZ-WS-120A)** (Item ID: B075T4DC11)\n",
      "   ![Image](https://images.example.com/91MCy5GYp8L)\n",
      "\n",
      "6. **Amazon Brand - Symbol Men's Brown PU Formal Shoes - 7 UK (AZ-SY-437)** (Item ID: B07WG3VF1J)\n",
      "   ![Image](https://images.example.com/81Ev54-ydWL)\n",
      "\n",
      "7. **Amazon Brand - Arthur Harvey Men's BLACK Leather Formal Shoes - 9 UK (AZ-ST-004A)** (Item ID: B07RDQJG32)\n",
      "   ![Image](https://images.example.com/71Eal7ed8dL)\n",
      "\n",
      "8. **Amazon Brand - Symbol Men's Grey Synthetic Formal Shoes - 8 UK (AZ-KY-292B)** (Item ID: B079TYGKB9)\n",
      "   ![Image](https://images.example.com/812jtub4q9L)\n",
      "\n",
      "9. **Amazon Essentials Belice Ballet Flat, Black, 12.5 M US** (Item ID: B07PMT5Y8D)\n",
      "   ![Image](https://images.example.com/61LXr87tpJL)\n",
      "\n",
      "10. **Amazon Brand - Symbol Men's Sneakers** (Item ID: B07DMX3TVH)\n",
      "    ![Image](https://images.example.com/81WY1x3Sj0L)\n",
      "\n",
      "These recommendations include a variety of styles and options for both men and women.\u001b[0m\n",
      "\n",
      "\u001b[1m> Finished chain.\u001b[0m\n",
      "Here are some top recommendations for shoes:\n",
      "1. **Amazon-merk - vinden. Dames Leder Gesloten Teen Hakken, Veelkleurig Vrouw Blauw, 5 UK** (Item ID: B06X9STHNG)\n",
      "   ![Image](https://images.example.com/81iZlv3bjpL)\n",
      "   \n",
      "2. **Amazon-merk - vinden. Archer, Heren Trainers, Kleur: wit, 12 UK** (Item ID: B06XGHBRCL)\n",
      "   ![Image](https://images.example.com/71RKqQao9rL)\n",
      "\n",
      "3. **Amazon Brand - Symbol Men's Tan PU Formal Shoes - 9 UK (AZ-SY-437)** (Item ID: B07WG3V91C)\n",
      "   ![Image](https://images.example.com/814RXC4DgkL)\n",
      "\n",
      "4. **Amazon Brand - Symbol Men's Leather Formal Slip-on shoes/India (44 EU)(AZ-WS-126B)** (Item ID: B075T4CJTY)\n",
      "   ![Image](https://images.example.com/71cyz3P4DKL)\n",
      "\n",
      "5. **Amazon Brand - Symbol Men's Suede Leather Casual Derby shoes - 7 UK/India (41 EU)(AZ-WS-120A)** (Item ID: B075T4DC11)\n",
      "   ![Image](https://images.example.com/91MCy5GYp8L)\n",
      "\n",
      "6. **Amazon Brand - Symbol Men's Brown PU Formal Shoes - 7 UK (AZ-SY-437)** (Item ID: B07WG3VF1J)\n",
      "   ![Image](https://images.example.com/81Ev54-ydWL)\n",
      "\n",
      "7. **Amazon Brand - Arthur Harvey Men's BLACK Leather Formal Shoes - 9 UK (AZ-ST-004A)** (Item ID: B07RDQJG32)\n",
      "   ![Image](https://images.example.com/71Eal7ed8dL)\n",
      "\n",
      "8. **Amazon Brand - Symbol Men's Grey Synthetic Formal Shoes - 8 UK (AZ-KY-292B)** (Item ID: B079TYGKB9)\n",
      "   ![Image](https://images.example.com/812jtub4q9L)\n",
      "\n",
      "9. **Amazon Essentials Belice Ballet Flat, Black, 12.5 M US** (Item ID: B07PMT5Y8D)\n",
      "   ![Image](https://images.example.com/61LXr87tpJL)\n",
      "\n",
      "10. **Amazon Brand - Symbol Men's Sneakers** (Item ID: B07DMX3TVH)\n",
      "    ![Image](https://images.example.com/81WY1x3Sj0L)\n",
      "\n",
      "These recommendations include a variety of styles and options for both men and women.\n"
     ]
    }
   ],
   "source": [
    "response = agent.run(\"Retrieve Recommendations for shoes\")\n",
    "print(response)"
   ]
  },
  {
   "cell_type": "code",
   "execution_count": 11,
   "metadata": {
    "colab": {
     "base_uri": "https://localhost:8080/"
    },
    "executionInfo": {
     "elapsed": 2173,
     "status": "ok",
     "timestamp": 1727631870880,
     "user": {
      "displayName": "Ram Vegiraju",
      "userId": "03170761428594033308"
     },
     "user_tz": 240
    },
    "id": "aAOGd1vH-mm1",
    "outputId": "513d8614-b188-4bc6-c22d-ee382f78afd9"
   },
   "outputs": [
    {
     "name": "stdout",
     "output_type": "stream",
     "text": [
      "\n",
      "\n",
      "\u001b[1m> Entering new AgentExecutor chain...\u001b[0m\n",
      "\u001b[32;1m\u001b[1;3mI need to add the specified items to the cart using their item IDs. \n",
      "Action: Add to Cart\n",
      "Action Input: B06X9STHNG B07P8ML82R\u001b[0m\n",
      "Observation: \u001b[33;1m\u001b[1;3m[{'Unnamed: 0': 0, 'Item ID': 'B06X9STHNG', 'Item Name - Language Tag': 'nl_NL', 'Item Name - Value': 'Amazon-merk - vinden. Dames Leder Gesloten Teen Hakken,Veelkleurig Vrouw Blauw,5 UK', 'Main Image ID': '81iZlv3bjpL', 'Other Image IDs': \"['91mIRxgziUL', '91eqBkW06wL', 'A1BHZSKNbkL']\", 'Item Keywords': \"['loafer shoes', 'womens shoes', 'womens fashion', 'womens loafers', 'womenswear', 'block heel shoes', 'loafers', 'womens block heel shoes', 'metallic shoes', 'womens loafer shoes']\"}, {'Unnamed: 0': 1, 'Item ID': 'B07P8ML82R', 'Item Name - Language Tag': 'es_MX', 'Item Name - Value': '22\" Bottom Mount Drawer Slides, White Powder Coat, 10 Pairs', 'Main Image ID': '619y9YG9cnL', 'Other Image IDs': \"['51Fqps5k9YL', '51lCKFuYuWL']\", 'Item Keywords': \"['café claro', 'pistas', 'con', 'cierre', 'Hogar', 'Pistola', 'mcm', 'Almacenamiento', 'en', 'rodamiento', 'deslizadores', 'Cocina', 'Chancla', 'Cerrar', '14', 'Oculto', 'Pro', 'ocultar', 'clóset', 'Muebles', 'Extensión', 'Guías', 'estrecho', 'Bola', 'Mesa', 'Automático', 'oculto', 'pulgadas', 'lento', 'Suave', 'diapositivas', 'dibujar', 'Compartimento', 'Rieles', 'táctico', '22', 'Deslizadores', 'Montaje bajo', 'Completo', 'Paquete', 'ocultación', 'Cierre suave', 'Promark']\"}]\u001b[0m\n",
      "Thought:\u001b[32;1m\u001b[1;3mI see that the items have been successfully added to the cart. \n",
      "Final Answer: The items B06X9STHNG and B07P8ML82R have been added to the cart.\u001b[0m\n",
      "\n",
      "\u001b[1m> Finished chain.\u001b[0m\n",
      "The items B06X9STHNG and B07P8ML82R have been added to the cart.\n"
     ]
    }
   ],
   "source": [
    "response = agent.run(\"Add to Cart B06X9STHNG, B07P8ML82R\")\n",
    "print(response)"
   ]
  },
  {
   "cell_type": "code",
   "execution_count": null,
   "metadata": {
    "id": "xeooVDDoEedd"
   },
   "outputs": [],
   "source": []
  }
 ],
 "metadata": {
  "colab": {
   "provenance": []
  },
  "kernelspec": {
   "display_name": ".venv",
   "language": "python",
   "name": "python3"
  },
  "language_info": {
   "codemirror_mode": {
    "name": "ipython",
    "version": 3
   },
   "file_extension": ".py",
   "mimetype": "text/x-python",
   "name": "python",
   "nbconvert_exporter": "python",
   "pygments_lexer": "ipython3",
   "version": "3.13.0"
  }
 },
 "nbformat": 4,
 "nbformat_minor": 0
}
